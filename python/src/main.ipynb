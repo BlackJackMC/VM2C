{
 "cells": [
  {
   "cell_type": "markdown",
   "metadata": {},
   "source": [
    "# CPI Analysis"
   ]
  },
  {
   "cell_type": "code",
   "execution_count": null,
   "metadata": {},
   "outputs": [],
   "source": [
    "import glob\n",
    "import os\n",
    "import numpy as np\n",
    "import pandas as pd\n",
    "import matplotlib.pyplot as plt\n",
    "from statsmodels.tsa.seasonal import seasonal_decompose\n",
    "from statsmodels.graphics.tsaplots import plot_acf, plot_pacf\n",
    "from statsmodels.tsa.stattools import adfuller\n",
    "from scipy.signal import periodogram"
   ]
  },
  {
   "cell_type": "markdown",
   "metadata": {},
   "source": [
    "## Define function"
   ]
  },
  {
   "cell_type": "code",
   "execution_count": null,
   "metadata": {},
   "outputs": [],
   "source": [
    "def read_data(filename):\n",
    "    df = pd.read_csv(filename)\n",
    "    df['Date'] = pd.to_datetime(df['Date'], format='%m/%Y')\n",
    "    df.set_index('Date', inplace=True)\n",
    "\n",
    "    name = os.path.splitext(os.path.basename(filename))[0]\n",
    "\n",
    "    return df.copy(), name.capitalize()"
   ]
  },
  {
   "cell_type": "code",
   "execution_count": null,
   "metadata": {},
   "outputs": [],
   "source": [
    "def test_stationarity(timeseries, window = 12, cutoff = 0.01):\n",
    "    #Determing rolling statistics\n",
    "    rolmean = timeseries.rolling(window).mean()\n",
    "    rolstd = timeseries.rolling(window).std()\n",
    "\n",
    "    #Plot rolling statistics:\n",
    "    fig = plt.figure(figsize=(12, 8))\n",
    "    orig = plt.plot(timeseries, color='blue',label='Original')\n",
    "    mean = plt.plot(rolmean, color='red', label='Rolling Mean')\n",
    "    std = plt.plot(rolstd, color='black', label = 'Rolling Std')\n",
    "    plt.legend(loc='best')\n",
    "    plt.title('Rolling Mean & Standard Deviation')\n",
    "    plt.show()\n",
    "    \n",
    "    #Perform Dickey-Fuller test:\n",
    "    print('Results of Dickey-Fuller Test:')\n",
    "    dftest = adfuller(timeseries, autolag='AIC', maxlag = 20 )\n",
    "    dfoutput = pd.Series(dftest[0:4], index=['Test Statistic','p-value','#Lags Used','Number of Observations Used'])\n",
    "    for key,value in dftest[4].items():\n",
    "        dfoutput['Critical Value (%s)'%key] = value\n",
    "    pvalue = dftest[1]\n",
    "    if pvalue < cutoff:\n",
    "        print('p-value = %.4f. The series is likely stationary.' % pvalue)\n",
    "    else:\n",
    "        print('p-value = %.4f. The series is likely non-stationary.' % pvalue)\n",
    "    \n",
    "    print(dfoutput)"
   ]
  },
  {
   "cell_type": "code",
   "execution_count": null,
   "metadata": {},
   "outputs": [],
   "source": [
    "def seasonal_analyze(data, name, save_file_name, period, time_flag, model, save=False):\n",
    "    if len(data) == 0: return\n",
    "    target_name = f\"{'' if name == 'CPI' else 'CPI of'} {name}\"\n",
    "    base_path = f\"../out/img/{name}\"\n",
    "    save_path = f\"{base_path}/{save_file_name}\"\n",
    "    os.makedirs(save_path, exist_ok=True)\n",
    "\n",
    "    plt.figure(figsize=(15, 6.4))\n",
    "    plt.plot(data, linestyle=\"-\", label=target_name)\n",
    "    plt.title(f\"{name} in {time_flag}\")\n",
    "    if save: plt.savefig(f\"{save_path}/{save_file_name}-Observation\")\n",
    "    plt.show()\n",
    "\n",
    "    frequencies, spectrum = periodogram(data)\n",
    "    plt.figure(figsize=(15, 6.4))\n",
    "    plt.plot(frequencies, spectrum)\n",
    "    plt.xlabel('Frequency')\n",
    "    plt.ylabel('Spectral Density')\n",
    "    plt.title(f'Periodogram of {target_name} in {time_flag}')\n",
    "    if save: plt.savefig(f\"{save_path}/{save_file_name}-Periodogram\")\n",
    "    plt.show()\n",
    "\n",
    "    season = seasonal_decompose(data, model=model, period=period)\n",
    "    fig = season.plot()\n",
    "    fig.suptitle(f\"Seasonal Decomposition of {target_name} in {time_flag}\")\n",
    "    fig.set_figwidth(15)\n",
    "    fig.set_figheight(6.4)\n",
    "    plt.tight_layout()\n",
    "    if save: plt.savefig(f\"{save_path}/{save_file_name}-Seasonal\")\n",
    "    plt.show()\n",
    "\n",
    "\n",
    "    fig, ax = plt.subplots(1, 2)\n",
    "    plot_acf(data, ax=ax[0])\n",
    "    plot_pacf(data, ax=ax[1])\n",
    "    fig.set_figwidth(15)\n",
    "    fig.set_figheight(6.4)\n",
    "    plt.tight_layout()\n",
    "    if save: fig.savefig(f\"{save_path}/{save_file_name}-Correlation\")\n",
    "    plt.show()"
   ]
  },
  {
   "cell_type": "markdown",
   "metadata": {},
   "source": [
    "## Input data"
   ]
  },
  {
   "cell_type": "markdown",
   "metadata": {},
   "source": [
    "### Read data list"
   ]
  },
  {
   "cell_type": "code",
   "execution_count": null,
   "metadata": {},
   "outputs": [],
   "source": [
    "data_files = glob.glob(\"..\\\\data\\\\*.csv\")\n",
    "data_files"
   ]
  },
  {
   "cell_type": "markdown",
   "metadata": {},
   "source": [
    "### Read file"
   ]
  },
  {
   "cell_type": "code",
   "execution_count": null,
   "metadata": {},
   "outputs": [],
   "source": [
    "df, name = read_data(\"../data/CPI.csv\")"
   ]
  },
  {
   "cell_type": "code",
   "execution_count": null,
   "metadata": {},
   "outputs": [],
   "source": [
    "df.describe()"
   ]
  },
  {
   "cell_type": "markdown",
   "metadata": {},
   "source": [
    "### Preprocess data"
   ]
  },
  {
   "cell_type": "code",
   "execution_count": null,
   "metadata": {},
   "outputs": [],
   "source": [
    "df.dropna(inplace=True)\n",
    "df.count() - len(df)"
   ]
  },
  {
   "cell_type": "markdown",
   "metadata": {},
   "source": [
    "## Analysis"
   ]
  },
  {
   "cell_type": "markdown",
   "metadata": {},
   "source": [
    "### Stationarity test\n",
    "\n",
    "Use Dickey-Fuller test to judge if the dataset is stationary or not\n",
    "\n",
    "The smaller p-value, the better\n",
    "\n",
    "If the p-value is too large, differencing the data will fix (maybe)"
   ]
  },
  {
   "cell_type": "code",
   "execution_count": null,
   "metadata": {},
   "outputs": [],
   "source": [
    "test_stationarity(df[\"Value\"])"
   ]
  },
  {
   "cell_type": "markdown",
   "metadata": {},
   "source": [
    "#### Differencing the data"
   ]
  },
  {
   "cell_type": "code",
   "execution_count": null,
   "metadata": {},
   "outputs": [],
   "source": [
    "for _ in range(1): #differencing\n",
    "    df['Value'] = df['Value'].diff()\n",
    "\n",
    "df = df.dropna()\n",
    "df['Value'].head()"
   ]
  },
  {
   "cell_type": "markdown",
   "metadata": {},
   "source": [
    "### Seasonal decomposition"
   ]
  },
  {
   "cell_type": "code",
   "execution_count": null,
   "metadata": {},
   "outputs": [],
   "source": [
    "seasonal_analyze(df[\"Value\"].diff().dropna(), name, \"20years\", period=12, time_flag=\"20 years\", model=\"additive\")\n",
    "seasonal_analyze(df[\"Value\"].diff().dropna()[12:24], name, 2002, period=6, time_flag=2002, model=\"additive\")"
   ]
  },
  {
   "cell_type": "markdown",
   "metadata": {},
   "source": [
    "## Mass runner\n",
    "\n",
    "Generate a bunch of graph from the data list"
   ]
  },
  {
   "cell_type": "code",
   "execution_count": null,
   "metadata": {},
   "outputs": [],
   "source": [
    "for file in data_files:\n",
    "    df, name = read_data(file)\n",
    "    seasonal_analyze(df[\"Change\"], name, f\"{df.index.year.max() - df.index.year.min()}years\", period=12, time_flag=f\"{df.index.year.max() - df.index.year.min()} year(s)\", model=\"additive\", save=True)\n",
    "    for i in range(1, 22):\n",
    "        try:\n",
    "            seasonal_analyze(df[(i - 1) * 12 : i * 12][\"Change\"], name, i + 2001, period=6, time_flag=i + 2001, model=\"additive\", save=True)\n",
    "        except:\n",
    "            pass\n",
    "\n",
    "    "
   ]
  }
 ],
 "metadata": {
  "kernelspec": {
   "display_name": "python",
   "language": "python",
   "name": "python3"
  },
  "language_info": {
   "codemirror_mode": {
    "name": "ipython",
    "version": 3
   },
   "file_extension": ".py",
   "mimetype": "text/x-python",
   "name": "python",
   "nbconvert_exporter": "python",
   "pygments_lexer": "ipython3",
   "version": "3.11.8"
  }
 },
 "nbformat": 4,
 "nbformat_minor": 2
}
